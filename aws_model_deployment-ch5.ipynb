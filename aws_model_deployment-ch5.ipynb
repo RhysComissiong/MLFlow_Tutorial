{
 "cells": [
  {
   "cell_type": "markdown",
   "id": "dd6d196a",
   "metadata": {},
   "source": [
    "## Deploying a Model to AWS Sagemaker"
   ]
  },
  {
   "cell_type": "code",
   "execution_count": 9,
   "id": "56f9a873",
   "metadata": {},
   "outputs": [],
   "source": [
    "import boto3\n",
    "import mlflow.sagemaker as mfs\n",
    "import json\n",
    "\n",
    "app_name = \"mlops-sagemaker\"\n",
    "execution_role_arn = \"arn:aws:iam::194301488911:role/SageMakerFullAccess\"\n",
    "image_ecr_url = \"194301488911.dkr.ecr.eu-west-2.amazonaws.com/mlflow-pyfunc:1.21.0\"\n",
    "region = \"eu-west-2\"\n",
    "\n",
    "s3_bucket_name = \"mlops-sagemaker-runs-rhys\"\n",
    "experiment_id = \"1\"\n",
    "run_id = \"10273bfd43124a54a23835dcf1695af4\"\n",
    "model_name = \"log_reg_model\"\n",
    "\n",
    "model_uri = \"s3://{}/{}/{}/artifacts/{}/\".format(s3_bucket_name,experiment_id,run_id,model_name)"
   ]
  },
  {
   "cell_type": "code",
   "execution_count": 10,
   "id": "1d31be42",
   "metadata": {},
   "outputs": [
    {
     "name": "stderr",
     "output_type": "stream",
     "text": [
      "2021/11/21 19:02:09 INFO mlflow.sagemaker: Using the python_function flavor for deployment!\n",
      "2021/11/21 19:02:09 INFO mlflow.sagemaker: No model data bucket specified, using the default bucket\n",
      "2021/11/21 19:02:10 INFO mlflow.sagemaker: Default bucket `mlflow-sagemaker-eu-west-2-194301488911` already exists. Skipping creation.\n",
      "2021/11/21 19:02:10 INFO mlflow.sagemaker: tag response: {'ResponseMetadata': {'RequestId': 'Y1SPSVZRATA63PB8', 'HostId': '/7K2zb2Cn/4UyC3sxAzQItEm2j+4qjIwRvduf8X/xd6sTmCXVw1GW5Kxxnd1aS3MmwyHIJ1n/MU=', 'HTTPStatusCode': 200, 'HTTPHeaders': {'x-amz-id-2': '/7K2zb2Cn/4UyC3sxAzQItEm2j+4qjIwRvduf8X/xd6sTmCXVw1GW5Kxxnd1aS3MmwyHIJ1n/MU=', 'x-amz-request-id': 'Y1SPSVZRATA63PB8', 'date': 'Sun, 21 Nov 2021 19:02:11 GMT', 'server': 'AmazonS3', 'content-length': '0'}, 'RetryAttempts': 0}}\n",
      "2021/11/21 19:02:10 INFO mlflow.sagemaker: Creating new endpoint with name: mlops-sagemaker ...\n",
      "2021/11/21 19:02:10 INFO mlflow.sagemaker: Created model with arn: arn:aws:sagemaker:eu-west-2:194301488911:model/mlops-sagemaker-model-2pedl4gdt7mujc8uab2-lzg\n",
      "2021/11/21 19:02:10 INFO mlflow.sagemaker: Created endpoint configuration with arn: arn:aws:sagemaker:eu-west-2:194301488911:endpoint-config/mlops-sagemaker-config-pnmtbabdzssqfyzihjwqvcq\n",
      "2021/11/21 19:02:11 INFO mlflow.sagemaker: Created endpoint with arn: arn:aws:sagemaker:eu-west-2:194301488911:endpoint/mlops-sagemaker\n",
      "2021/11/21 19:02:11 INFO mlflow.sagemaker: Waiting for the deployment operation to complete...\n",
      "2021/11/21 19:02:11 INFO mlflow.sagemaker: Waiting for endpoint to reach the \"InService\" state. Current endpoint status: \"Creating\"\n",
      "2021/11/21 19:02:31 INFO mlflow.sagemaker: Waiting for endpoint to reach the \"InService\" state. Current endpoint status: \"Creating\"\n",
      "2021/11/21 19:02:51 INFO mlflow.sagemaker: Waiting for endpoint to reach the \"InService\" state. Current endpoint status: \"Creating\"\n",
      "2021/11/21 19:03:11 INFO mlflow.sagemaker: Waiting for endpoint to reach the \"InService\" state. Current endpoint status: \"Creating\"\n",
      "2021/11/21 19:03:32 INFO mlflow.sagemaker: Waiting for endpoint to reach the \"InService\" state. Current endpoint status: \"Creating\"\n",
      "2021/11/21 19:03:52 INFO mlflow.sagemaker: Waiting for endpoint to reach the \"InService\" state. Current endpoint status: \"Creating\"\n",
      "2021/11/21 19:04:12 INFO mlflow.sagemaker: Waiting for endpoint to reach the \"InService\" state. Current endpoint status: \"Creating\"\n",
      "2021/11/21 19:04:32 INFO mlflow.sagemaker: Waiting for endpoint to reach the \"InService\" state. Current endpoint status: \"Creating\"\n",
      "2021/11/21 19:04:53 INFO mlflow.sagemaker: Waiting for endpoint to reach the \"InService\" state. Current endpoint status: \"Creating\"\n",
      "2021/11/21 19:05:13 INFO mlflow.sagemaker: Waiting for endpoint to reach the \"InService\" state. Current endpoint status: \"Creating\"\n",
      "2021/11/21 19:05:33 INFO mlflow.sagemaker: Waiting for endpoint to reach the \"InService\" state. Current endpoint status: \"Creating\"\n",
      "2021/11/21 19:05:48 INFO mlflow.sagemaker: The deployment operation completed successfully with message: \"The SageMaker endpoint was created successfully.\"\n"
     ]
    }
   ],
   "source": [
    "mfs.deploy(app_name=app_name,\n",
    "           model_uri=model_uri,\n",
    "          execution_role_arn=execution_role_arn,\n",
    "          region_name=region,\n",
    "          image_url=image_ecr_url,\n",
    "          mode=mfs.DEPLOYMENT_MODE_CREATE) # CREATE"
   ]
  },
  {
   "cell_type": "markdown",
   "id": "86ab225a",
   "metadata": {},
   "source": [
    "## Making Predictions"
   ]
  },
  {
   "cell_type": "code",
   "execution_count": 20,
   "id": "cac276b3",
   "metadata": {},
   "outputs": [],
   "source": [
    "def query(input_json):\n",
    "    \n",
    "    client = boto3.session.Session().client(\"sagemaker-runtime\",region)\n",
    "    \n",
    "    response = client.invoke_endpoint(\n",
    "    EndpointName=app_name,\n",
    "    Body=input_json,\n",
    "    ContentType='application/json; format=pandas-split')\n",
    "    \n",
    "    preds = response['Body'].read().decode(\"ascii\")\n",
    "    preds = json.loads(preds)\n",
    "    return preds"
   ]
  },
  {
   "cell_type": "code",
   "execution_count": 21,
   "id": "fa562b22",
   "metadata": {},
   "outputs": [],
   "source": [
    "import pandas as pd\n",
    "import mlflow\n",
    "import mlflow.sklearn\n",
    "\n",
    "import seaborn as sns\n",
    "\n",
    "import matplotlib.pyplot as plt\n",
    "\n",
    "from sklearn.preprocessing import StandardScaler\n",
    "from sklearn.model_selection import train_test_split\n",
    "from sklearn.metrics import roc_auc_score, accuracy_score, confusion_matrix\n",
    "\n",
    "import numpy as np\n",
    "\n",
    "df = pd.read_csv(\"data/creditcard.csv\")"
   ]
  },
  {
   "cell_type": "code",
   "execution_count": 22,
   "id": "f09ad848",
   "metadata": {},
   "outputs": [
    {
     "data": {
      "text/plain": [
       "StandardScaler()"
      ]
     },
     "execution_count": 22,
     "metadata": {},
     "output_type": "execute_result"
    }
   ],
   "source": [
    "normal = df[df.Class == 0].sample(frac=0.5,random_state=2020).reset_index(drop=True)\n",
    "anomaly = df[df.Class == 1]\n",
    "\n",
    "normal_train, normal_test = train_test_split(normal, test_size = 0.2, random_state = 2020)\n",
    "anomaly_train, anomaly_test = train_test_split(anomaly, test_size = 0.2, random_state = 2020)\n",
    "\n",
    "scaler = StandardScaler()\n",
    "scaler.fit(pd.concat((normal,anomaly)).drop([\"Time\",\"Class\"],axis=1))"
   ]
  },
  {
   "cell_type": "code",
   "execution_count": 23,
   "id": "ee4d30a7",
   "metadata": {},
   "outputs": [
    {
     "data": {
      "text/html": [
       "<div>\n",
       "<style scoped>\n",
       "    .dataframe tbody tr th:only-of-type {\n",
       "        vertical-align: middle;\n",
       "    }\n",
       "\n",
       "    .dataframe tbody tr th {\n",
       "        vertical-align: top;\n",
       "    }\n",
       "\n",
       "    .dataframe thead th {\n",
       "        text-align: right;\n",
       "    }\n",
       "</style>\n",
       "<table border=\"1\" class=\"dataframe\">\n",
       "  <thead>\n",
       "    <tr style=\"text-align: right;\">\n",
       "      <th></th>\n",
       "      <th>0</th>\n",
       "      <th>1</th>\n",
       "      <th>2</th>\n",
       "      <th>3</th>\n",
       "      <th>4</th>\n",
       "      <th>5</th>\n",
       "      <th>6</th>\n",
       "      <th>7</th>\n",
       "      <th>8</th>\n",
       "      <th>9</th>\n",
       "      <th>...</th>\n",
       "      <th>70</th>\n",
       "      <th>71</th>\n",
       "      <th>72</th>\n",
       "      <th>73</th>\n",
       "      <th>74</th>\n",
       "      <th>75</th>\n",
       "      <th>76</th>\n",
       "      <th>77</th>\n",
       "      <th>78</th>\n",
       "      <th>79</th>\n",
       "    </tr>\n",
       "  </thead>\n",
       "  <tbody>\n",
       "    <tr>\n",
       "      <th>0</th>\n",
       "      <td>0</td>\n",
       "      <td>0</td>\n",
       "      <td>0</td>\n",
       "      <td>0</td>\n",
       "      <td>0</td>\n",
       "      <td>0</td>\n",
       "      <td>0</td>\n",
       "      <td>0</td>\n",
       "      <td>0</td>\n",
       "      <td>0</td>\n",
       "      <td>...</td>\n",
       "      <td>0</td>\n",
       "      <td>0</td>\n",
       "      <td>0</td>\n",
       "      <td>0</td>\n",
       "      <td>0</td>\n",
       "      <td>0</td>\n",
       "      <td>0</td>\n",
       "      <td>0</td>\n",
       "      <td>0</td>\n",
       "      <td>0</td>\n",
       "    </tr>\n",
       "  </tbody>\n",
       "</table>\n",
       "<p>1 rows × 80 columns</p>\n",
       "</div>"
      ],
      "text/plain": [
       "   0   1   2   3   4   5   6   7   8   9   ...  70  71  72  73  74  75  76  \\\n",
       "0   0   0   0   0   0   0   0   0   0   0  ...   0   0   0   0   0   0   0   \n",
       "\n",
       "   77  78  79  \n",
       "0   0   0   0  \n",
       "\n",
       "[1 rows x 80 columns]"
      ]
     },
     "execution_count": 23,
     "metadata": {},
     "output_type": "execute_result"
    }
   ],
   "source": [
    "scaled_selection = scaler.transform(df.iloc[:80].drop([\"Time\",\"Class\"],axis=1))\n",
    "input_json = pd.DataFrame(scaled_selection).to_json(orient=\"split\")\n",
    "\n",
    "pd.DataFrame(query(input_json)).T"
   ]
  },
  {
   "cell_type": "code",
   "execution_count": 25,
   "id": "7363f1c6",
   "metadata": {},
   "outputs": [
    {
     "name": "stdout",
     "output_type": "stream",
     "text": [
      "Batch 0 - Completed\n",
      "Batch 1 - Completed\n",
      "Batch 2 - Completed\n",
      "Batch 3 - Completed\n",
      "Batch 4 - Completed\n",
      "Batch 5 - Completed\n",
      "Batch 6 - Completed\n",
      "Batch 7 - Completed\n",
      "Batch 8 - Completed\n",
      "Batch 9 - Completed\n",
      "Batch 10 - Completed\n",
      "Batch 11 - Completed\n",
      "Batch 12 - Completed\n",
      "Batch 13 - Completed\n",
      "Batch 14 - Completed\n",
      "Batch 15 - Completed\n",
      "Batch 16 - Completed\n",
      "Batch 17 - Completed\n",
      "Batch 18 - Completed\n",
      "Batch 19 - Completed\n",
      "Batch 20 - Completed\n",
      "Batch 21 - Completed\n",
      "Batch 22 - Completed\n",
      "Batch 23 - Completed\n",
      "Batch 24 - Completed\n",
      "Eval Acc 0.9915\n",
      "Eval AUC 0.915\n"
     ]
    }
   ],
   "source": [
    "test = pd.concat((normal.iloc[:1900],anomaly.iloc[:100]))\n",
    "true = test.Class\n",
    "test = scaler.transform(test.drop([\"Time\",\"Class\"],axis=1))\n",
    "preds = []\n",
    "\n",
    "batch_size = 80\n",
    "for f in range(25):\n",
    "    print(f\"Batch {f}\", end=\" - \")\n",
    "    \n",
    "    sample = pd.DataFrame(test[f*batch_size:(f+1)*batch_size]).to_json(orient=\"split\")\n",
    "    output = query(sample)\n",
    "    resp = pd.DataFrame([output])\n",
    "    preds = np.concatenate((preds,resp.values[0]))\n",
    "    \n",
    "    print(\"Completed\")\n",
    "    \n",
    "eval_acc = accuracy_score(true,preds)\n",
    "eval_auc = roc_auc_score(true,preds)\n",
    "\n",
    "print(\"Eval Acc\", eval_acc)\n",
    "print(\"Eval AUC\", eval_auc)"
   ]
  },
  {
   "cell_type": "markdown",
   "id": "07531870",
   "metadata": {},
   "source": [
    "## Switching Models"
   ]
  },
  {
   "cell_type": "code",
   "execution_count": 27,
   "id": "e8dd549f",
   "metadata": {},
   "outputs": [
    {
     "name": "stderr",
     "output_type": "stream",
     "text": [
      "2021/11/21 19:53:19 INFO mlflow.sagemaker: Using the python_function flavor for deployment!\n",
      "2021/11/21 19:53:19 INFO mlflow.sagemaker: No model data bucket specified, using the default bucket\n",
      "2021/11/21 19:53:20 INFO mlflow.sagemaker: Default bucket `mlflow-sagemaker-eu-west-2-194301488911` already exists. Skipping creation.\n",
      "2021/11/21 19:53:21 INFO mlflow.sagemaker: tag response: {'ResponseMetadata': {'RequestId': '644ZRE84H6DK59VC', 'HostId': 'Pq7b/dJ7attFh+foMd9KTB2kQxDCHV56CguMtsINMtgem8ZAv+/4N8C4rNZi22jqE7h+R6U9yrE=', 'HTTPStatusCode': 200, 'HTTPHeaders': {'x-amz-id-2': 'Pq7b/dJ7attFh+foMd9KTB2kQxDCHV56CguMtsINMtgem8ZAv+/4N8C4rNZi22jqE7h+R6U9yrE=', 'x-amz-request-id': '644ZRE84H6DK59VC', 'date': 'Sun, 21 Nov 2021 19:53:22 GMT', 'server': 'AmazonS3', 'content-length': '0'}, 'RetryAttempts': 0}}\n",
      "2021/11/21 19:53:21 INFO mlflow.sagemaker: Found active endpoint with arn: arn:aws:sagemaker:eu-west-2:194301488911:endpoint/mlops-sagemaker. Updating...\n",
      "2021/11/21 19:53:21 INFO mlflow.sagemaker: Created new model with arn: arn:aws:sagemaker:eu-west-2:194301488911:model/mlops-sagemaker-model-wd5jt8nestioyaeabcwkqna\n",
      "2021/11/21 19:53:21 INFO mlflow.sagemaker: Created new endpoint configuration with arn: arn:aws:sagemaker:eu-west-2:194301488911:endpoint-config/mlops-sagemaker-config-okmwtxbvstwrmjwt71y11w\n",
      "2021/11/21 19:53:22 INFO mlflow.sagemaker: Updated endpoint with new configuration!\n",
      "2021/11/21 19:53:22 INFO mlflow.sagemaker: Waiting for the deployment operation to complete...\n",
      "2021/11/21 19:53:22 INFO mlflow.sagemaker: The operation is still in progress.\n",
      "2021/11/21 19:53:42 INFO mlflow.sagemaker: The update operation is still in progress. Current endpoint status: \"Updating\"\n",
      "2021/11/21 19:54:03 INFO mlflow.sagemaker: The update operation is still in progress. Current endpoint status: \"Updating\"\n",
      "2021/11/21 19:54:23 INFO mlflow.sagemaker: The update operation is still in progress. Current endpoint status: \"Updating\"\n",
      "2021/11/21 19:54:44 INFO mlflow.sagemaker: The update operation is still in progress. Current endpoint status: \"Updating\"\n",
      "2021/11/21 19:55:05 INFO mlflow.sagemaker: The update operation is still in progress. Current endpoint status: \"Updating\"\n",
      "2021/11/21 19:55:26 INFO mlflow.sagemaker: The update operation is still in progress. Current endpoint status: \"Updating\"\n",
      "2021/11/21 19:55:47 INFO mlflow.sagemaker: The update operation is still in progress. Current endpoint status: \"Updating\"\n",
      "2021/11/21 19:56:07 INFO mlflow.sagemaker: The update operation is still in progress. Current endpoint status: \"Updating\"\n",
      "2021/11/21 19:56:28 INFO mlflow.sagemaker: The update operation is still in progress. Current endpoint status: \"Updating\"\n",
      "2021/11/21 19:56:49 INFO mlflow.sagemaker: The update operation is still in progress. Current endpoint status: \"Updating\"\n",
      "2021/11/21 19:57:09 INFO mlflow.sagemaker: The deployment operation completed successfully with message: \"The SageMaker endpoint was updated successfully.\"\n",
      "2021/11/21 19:57:09 INFO mlflow.sagemaker: Cleaning up unused resources...\n",
      "2021/11/21 19:57:10 INFO mlflow.sagemaker: Deleted model with arn: arn:aws:sagemaker:eu-west-2:194301488911:model/mlops-sagemaker-model-2pedl4gdt7mujc8uab2-lzg\n",
      "2021/11/21 19:57:10 INFO mlflow.sagemaker: Deleted endpoint configuration with arn: arn:aws:sagemaker:eu-west-2:194301488911:endpoint-config/mlops-sagemaker-config-pnmtbabdzssqfyzihjwqvcq\n"
     ]
    }
   ],
   "source": [
    "new_run_id = \"52906ffde7a940dcb285fbb8aad88643\"\n",
    "\n",
    "new_model_uri = \"s3://{}/{}/{}/artifacts/{}/\".format(s3_bucket_name,experiment_id,new_run_id,model_name)\n",
    "\n",
    "mfs.deploy(app_name=app_name,\n",
    "          model_uri=new_model_uri,\n",
    "          execution_role_arn=execution_role_arn,\n",
    "          region_name=region,\n",
    "          image_url=image_ecr_url,\n",
    "          mode=mfs.DEPLOYMENT_MODE_REPLACE) # REPLACE"
   ]
  },
  {
   "cell_type": "code",
   "execution_count": 29,
   "id": "bf238037",
   "metadata": {},
   "outputs": [
    {
     "name": "stdout",
     "output_type": "stream",
     "text": [
      "Batch 0 - Completed\n",
      "Batch 1 - Completed\n",
      "Batch 2 - Completed\n",
      "Batch 3 - Completed\n",
      "Batch 4 - Completed\n",
      "Batch 5 - Completed\n",
      "Batch 6 - Completed\n",
      "Batch 7 - Completed\n",
      "Batch 8 - Completed\n",
      "Batch 9 - Completed\n",
      "Batch 10 - Completed\n",
      "Batch 11 - Completed\n",
      "Batch 12 - Completed\n",
      "Batch 13 - Completed\n",
      "Batch 14 - Completed\n",
      "Batch 15 - Completed\n",
      "Batch 16 - Completed\n",
      "Batch 17 - Completed\n",
      "Batch 18 - Completed\n",
      "Batch 19 - Completed\n",
      "Batch 20 - Completed\n",
      "Batch 21 - Completed\n",
      "Batch 22 - Completed\n",
      "Batch 23 - Completed\n",
      "Batch 24 - Completed\n",
      "Eval Acc 0.9915\n",
      "Eval AUC 0.915\n"
     ]
    }
   ],
   "source": [
    "test = pd.concat((normal.iloc[:1900],anomaly.iloc[:100]))\n",
    "true = test.Class\n",
    "test = scaler.transform(test.drop([\"Time\",\"Class\"],axis=1))\n",
    "preds = []\n",
    "\n",
    "batch_size = 80\n",
    "for f in range(25):\n",
    "    print(f\"Batch {f}\", end=\" - \")\n",
    "    \n",
    "    sample = pd.DataFrame(test[f*batch_size:(f+1)*batch_size]).to_json(orient=\"split\")\n",
    "    output = query(sample)\n",
    "    resp = pd.DataFrame([output])\n",
    "    preds = np.concatenate((preds,resp.values[0]))\n",
    "    \n",
    "    print(\"Completed\")\n",
    "    \n",
    "eval_acc = accuracy_score(true,preds)\n",
    "eval_auc = roc_auc_score(true,preds)\n",
    "\n",
    "print(\"Eval Acc\", eval_acc)\n",
    "print(\"Eval AUC\", eval_auc)"
   ]
  },
  {
   "cell_type": "markdown",
   "id": "139d4be5",
   "metadata": {},
   "source": [
    "## Removing Deployed Model"
   ]
  },
  {
   "cell_type": "code",
   "execution_count": 30,
   "id": "efabad0e",
   "metadata": {},
   "outputs": [
    {
     "name": "stderr",
     "output_type": "stream",
     "text": [
      "2021/11/21 20:04:00 INFO mlflow.sagemaker: Deleted endpoint with arn: arn:aws:sagemaker:eu-west-2:194301488911:endpoint/mlops-sagemaker\n",
      "2021/11/21 20:04:00 INFO mlflow.sagemaker: Waiting for the delete operation to complete...\n",
      "2021/11/21 20:04:00 INFO mlflow.sagemaker: Deletion is still in progress. Current endpoint status: Deleting\n",
      "2021/11/21 20:04:05 INFO mlflow.sagemaker: The deletion operation completed successfully with message: \"The SageMaker endpoint was deleted successfully.\"\n",
      "2021/11/21 20:04:05 INFO mlflow.sagemaker: Cleaning up unused resources...\n",
      "2021/11/21 20:04:05 INFO mlflow.sagemaker: Deleted associated endpoint configuration with arn: arn:aws:sagemaker:eu-west-2:194301488911:endpoint-config/mlops-sagemaker-config-okmwtxbvstwrmjwt71y11w\n",
      "2021/11/21 20:04:06 INFO mlflow.sagemaker: Deleted associated model with arn: arn:aws:sagemaker:eu-west-2:194301488911:model/mlops-sagemaker-model-wd5jt8nestioyaeabcwkqna\n"
     ]
    }
   ],
   "source": [
    "mfs.delete(app_name=app_name,region_name=region)"
   ]
  },
  {
   "cell_type": "code",
   "execution_count": null,
   "id": "ef999517",
   "metadata": {},
   "outputs": [],
   "source": []
  }
 ],
 "metadata": {
  "kernelspec": {
   "display_name": "Python 3 (ipykernel)",
   "language": "python",
   "name": "python3"
  },
  "language_info": {
   "codemirror_mode": {
    "name": "ipython",
    "version": 3
   },
   "file_extension": ".py",
   "mimetype": "text/x-python",
   "name": "python",
   "nbconvert_exporter": "python",
   "pygments_lexer": "ipython3",
   "version": "3.7.9"
  }
 },
 "nbformat": 4,
 "nbformat_minor": 5
}
